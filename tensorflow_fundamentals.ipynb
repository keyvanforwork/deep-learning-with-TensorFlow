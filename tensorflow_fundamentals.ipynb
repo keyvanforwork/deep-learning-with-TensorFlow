{
  "nbformat": 4,
  "nbformat_minor": 0,
  "metadata": {
    "colab": {
      "provenance": [],
      "include_colab_link": true
    },
    "kernelspec": {
      "name": "python3",
      "display_name": "Python 3"
    },
    "language_info": {
      "name": "python"
    }
  },
  "cells": [
    {
      "cell_type": "markdown",
      "metadata": {
        "id": "view-in-github",
        "colab_type": "text"
      },
      "source": [
        "<a href=\"https://colab.research.google.com/github/keyvanforwork/deep-learning-with-TensorFlow/blob/main/tensorflow_fundamentals.ipynb\" target=\"_parent\"><img src=\"https://colab.research.google.com/assets/colab-badge.svg\" alt=\"Open In Colab\"/></a>"
      ]
    },
    {
      "cell_type": "markdown",
      "source": [
        "## Introducing to tensors"
      ],
      "metadata": {
        "id": "EqDp_7H-qEZA"
      }
    },
    {
      "cell_type": "code",
      "source": [
        "# Import tensorflow\n",
        "import tensorflow as tf\n",
        "print(tf.__version__)"
      ],
      "metadata": {
        "colab": {
          "base_uri": "https://localhost:8080/"
        },
        "id": "RRlquzwsquUx",
        "outputId": "f78fd046-6805-448f-f6cf-19aae6007b73"
      },
      "execution_count": null,
      "outputs": [
        {
          "output_type": "stream",
          "name": "stdout",
          "text": [
            "2.13.0\n"
          ]
        }
      ]
    },
    {
      "cell_type": "code",
      "source": [
        "# Create a scaler\n",
        "scaler = tf.constant(7)\n",
        "scaler"
      ],
      "metadata": {
        "colab": {
          "base_uri": "https://localhost:8080/"
        },
        "id": "iq_W7DrVq8-8",
        "outputId": "6b511b30-b366-4d0a-e314-33f0c6430eb8"
      },
      "execution_count": null,
      "outputs": [
        {
          "output_type": "execute_result",
          "data": {
            "text/plain": [
              "<tf.Tensor: shape=(), dtype=int32, numpy=7>"
            ]
          },
          "metadata": {},
          "execution_count": 2
        }
      ]
    },
    {
      "cell_type": "code",
      "source": [
        "# Number of dimensions for tensors\n",
        "scaler.ndim"
      ],
      "metadata": {
        "colab": {
          "base_uri": "https://localhost:8080/"
        },
        "id": "XHokj4iQr9uz",
        "outputId": "9723d29c-4625-42d1-c190-079c4a708dc0"
      },
      "execution_count": null,
      "outputs": [
        {
          "output_type": "execute_result",
          "data": {
            "text/plain": [
              "0"
            ]
          },
          "metadata": {},
          "execution_count": 3
        }
      ]
    },
    {
      "cell_type": "code",
      "source": [
        "# Create a vector\n",
        "vector = tf.constant([10, 10])\n",
        "vector"
      ],
      "metadata": {
        "colab": {
          "base_uri": "https://localhost:8080/"
        },
        "id": "aPv5omgWvFWW",
        "outputId": "b66e4843-280a-45fb-e191-aca58ed6aed5"
      },
      "execution_count": null,
      "outputs": [
        {
          "output_type": "execute_result",
          "data": {
            "text/plain": [
              "<tf.Tensor: shape=(2,), dtype=int32, numpy=array([10, 10], dtype=int32)>"
            ]
          },
          "metadata": {},
          "execution_count": 4
        }
      ]
    },
    {
      "cell_type": "code",
      "source": [
        "vector.ndim"
      ],
      "metadata": {
        "colab": {
          "base_uri": "https://localhost:8080/"
        },
        "id": "G-YzTOVDwbef",
        "outputId": "185b0582-0433-4661-a192-e4e4018b5f4a"
      },
      "execution_count": null,
      "outputs": [
        {
          "output_type": "execute_result",
          "data": {
            "text/plain": [
              "1"
            ]
          },
          "metadata": {},
          "execution_count": 5
        }
      ]
    },
    {
      "cell_type": "code",
      "source": [
        "# Create a matrix (more than 1 dimensions)\n",
        "matrix = tf.constant([[10, 7],\n",
        "                     [7, 10]])\n",
        "matrix"
      ],
      "metadata": {
        "colab": {
          "base_uri": "https://localhost:8080/"
        },
        "id": "br2vTcjXwlba",
        "outputId": "eb8404f2-542e-45e3-b8fd-95a536bff4e8"
      },
      "execution_count": null,
      "outputs": [
        {
          "output_type": "execute_result",
          "data": {
            "text/plain": [
              "<tf.Tensor: shape=(2, 2), dtype=int32, numpy=\n",
              "array([[10,  7],\n",
              "       [ 7, 10]], dtype=int32)>"
            ]
          },
          "metadata": {},
          "execution_count": 6
        }
      ]
    },
    {
      "cell_type": "code",
      "source": [
        "matrix.ndim"
      ],
      "metadata": {
        "colab": {
          "base_uri": "https://localhost:8080/"
        },
        "id": "QBl90qqtxgQp",
        "outputId": "6dbe16a1-8bd6-4ffa-ced7-5141f35b660f"
      },
      "execution_count": null,
      "outputs": [
        {
          "output_type": "execute_result",
          "data": {
            "text/plain": [
              "2"
            ]
          },
          "metadata": {},
          "execution_count": 7
        }
      ]
    },
    {
      "cell_type": "code",
      "source": [
        "matrix1 = tf.constant([[1., 2., 3.],\n",
        "                        [4., 5., 6.],\n",
        "                        [7., 8., 9.]], dtype= tf.float16)\n",
        "matrix1"
      ],
      "metadata": {
        "colab": {
          "base_uri": "https://localhost:8080/"
        },
        "id": "oUYMVplexjD7",
        "outputId": "40194acd-1101-43ee-ba34-6a923419b246"
      },
      "execution_count": null,
      "outputs": [
        {
          "output_type": "execute_result",
          "data": {
            "text/plain": [
              "<tf.Tensor: shape=(3, 3), dtype=float16, numpy=\n",
              "array([[1., 2., 3.],\n",
              "       [4., 5., 6.],\n",
              "       [7., 8., 9.]], dtype=float16)>"
            ]
          },
          "metadata": {},
          "execution_count": 9
        }
      ]
    },
    {
      "cell_type": "code",
      "source": [
        "matrix1.ndim"
      ],
      "metadata": {
        "colab": {
          "base_uri": "https://localhost:8080/"
        },
        "id": "QBMKtORayM-B",
        "outputId": "c01dd856-7095-4ef6-8ef9-b6c73b6abd5d"
      },
      "execution_count": null,
      "outputs": [
        {
          "output_type": "execute_result",
          "data": {
            "text/plain": [
              "2"
            ]
          },
          "metadata": {},
          "execution_count": 10
        }
      ]
    },
    {
      "cell_type": "code",
      "source": [
        "# Create a tensor\n",
        "tensor = tf.constant([[[1, 2, 3],\n",
        "                       [4, 5, 6],\n",
        "                       [7, 8, 9]],\n",
        "                      [[10, 11, 12],\n",
        "                       [13, 14, 15],\n",
        "                       [16, 17, 18]]])\n",
        "tensor"
      ],
      "metadata": {
        "colab": {
          "base_uri": "https://localhost:8080/"
        },
        "id": "WLXs-vMTzCpV",
        "outputId": "b9c6768e-742b-4516-99f6-3bbf72d5b78c"
      },
      "execution_count": null,
      "outputs": [
        {
          "output_type": "execute_result",
          "data": {
            "text/plain": [
              "<tf.Tensor: shape=(2, 3, 3), dtype=int32, numpy=\n",
              "array([[[ 1,  2,  3],\n",
              "        [ 4,  5,  6],\n",
              "        [ 7,  8,  9]],\n",
              "\n",
              "       [[10, 11, 12],\n",
              "        [13, 14, 15],\n",
              "        [16, 17, 18]]], dtype=int32)>"
            ]
          },
          "metadata": {},
          "execution_count": 11
        }
      ]
    },
    {
      "cell_type": "code",
      "source": [
        "tensor.ndim"
      ],
      "metadata": {
        "colab": {
          "base_uri": "https://localhost:8080/"
        },
        "id": "HjnQ2v1U1DTp",
        "outputId": "4d761949-9ffb-4350-965f-6b1d02891c87"
      },
      "execution_count": null,
      "outputs": [
        {
          "output_type": "execute_result",
          "data": {
            "text/plain": [
              "3"
            ]
          },
          "metadata": {},
          "execution_count": 13
        }
      ]
    },
    {
      "cell_type": "markdown",
      "source": [
        "* **scaler**: a single number\n",
        "* **vector**: a number with direction\n",
        "* **matrix**: a 2-dimensional array of numbers\n",
        "* **tensor**: an n-dimensional array of numbers  (n can be any number, 0-dimension tensor is a scaler, 1-dimension tensor is a vector, 2-dimension tensor is a matrix, ... )\n",
        "           \n",
        "      "
      ],
      "metadata": {
        "id": "sg5Haa9_4zAM"
      }
    },
    {
      "cell_type": "code",
      "source": [
        "# Create tensors with tf.Variable()\n",
        "changeable_tensor = tf.Variable([10, 7])\n",
        "unchangeable_tensor = tf.constant([10, 7])\n",
        "changeable_tensor, unchangeable_tensor"
      ],
      "metadata": {
        "colab": {
          "base_uri": "https://localhost:8080/",
          "height": 227
        },
        "id": "-x7XB9ZoyOxP",
        "outputId": "313135ba-40e8-49fa-af45-cf589780f09e"
      },
      "execution_count": null,
      "outputs": [
        {
          "output_type": "error",
          "ename": "NameError",
          "evalue": "ignored",
          "traceback": [
            "\u001b[0;31m---------------------------------------------------------------------------\u001b[0m",
            "\u001b[0;31mNameError\u001b[0m                                 Traceback (most recent call last)",
            "\u001b[0;32m<ipython-input-1-91135ea3ebbc>\u001b[0m in \u001b[0;36m<cell line: 2>\u001b[0;34m()\u001b[0m\n\u001b[1;32m      1\u001b[0m \u001b[0;31m# Create tensors with tf.Variable()\u001b[0m\u001b[0;34m\u001b[0m\u001b[0;34m\u001b[0m\u001b[0m\n\u001b[0;32m----> 2\u001b[0;31m \u001b[0mchangeable_tensor\u001b[0m \u001b[0;34m=\u001b[0m \u001b[0mtf\u001b[0m\u001b[0;34m.\u001b[0m\u001b[0mVariable\u001b[0m\u001b[0;34m(\u001b[0m\u001b[0;34m[\u001b[0m\u001b[0;36m10\u001b[0m\u001b[0;34m,\u001b[0m \u001b[0;36m7\u001b[0m\u001b[0;34m]\u001b[0m\u001b[0;34m)\u001b[0m\u001b[0;34m\u001b[0m\u001b[0;34m\u001b[0m\u001b[0m\n\u001b[0m\u001b[1;32m      3\u001b[0m \u001b[0munchangeable_tensor\u001b[0m \u001b[0;34m=\u001b[0m \u001b[0mtf\u001b[0m\u001b[0;34m.\u001b[0m\u001b[0mconstant\u001b[0m\u001b[0;34m(\u001b[0m\u001b[0;34m[\u001b[0m\u001b[0;36m10\u001b[0m\u001b[0;34m,\u001b[0m \u001b[0;36m7\u001b[0m\u001b[0;34m]\u001b[0m\u001b[0;34m)\u001b[0m\u001b[0;34m\u001b[0m\u001b[0;34m\u001b[0m\u001b[0m\n\u001b[1;32m      4\u001b[0m \u001b[0mchangeable_tensor\u001b[0m\u001b[0;34m,\u001b[0m \u001b[0munchangeable_tensor\u001b[0m\u001b[0;34m\u001b[0m\u001b[0;34m\u001b[0m\u001b[0m\n",
            "\u001b[0;31mNameError\u001b[0m: name 'tf' is not defined"
          ]
        }
      ]
    },
    {
      "cell_type": "code",
      "source": [
        "# changeable_tensor[0] = 4     # erorr\n",
        "changeable_tensor[0].assign(4)\n",
        "changeable_tensor"
      ],
      "metadata": {
        "colab": {
          "base_uri": "https://localhost:8080/"
        },
        "id": "gINiDf4tzf0o",
        "outputId": "1b415dd9-7dcc-4db9-fb69-640a3a69aced"
      },
      "execution_count": null,
      "outputs": [
        {
          "output_type": "execute_result",
          "data": {
            "text/plain": [
              "<tf.Variable 'Variable:0' shape=(2,) dtype=int32, numpy=array([4, 7], dtype=int32)>"
            ]
          },
          "metadata": {},
          "execution_count": 6
        }
      ]
    },
    {
      "cell_type": "code",
      "source": [
        "# Create two random (but the same) tensors\n",
        "random_1 = tf.random.Generator.from_seed(42)\n",
        "random_1 = random_1.normal(shape=(3, 2))\n",
        "random_2 = tf.random.Generator.from_seed(42)\n",
        "random_2 = random_2.normal(shape=(3, 2))\n",
        "\n",
        "random_1, random_2, random_1 == random_2"
      ],
      "metadata": {
        "colab": {
          "base_uri": "https://localhost:8080/"
        },
        "id": "Nu4NtbkYzjQg",
        "outputId": "f544375f-d465-400b-fca6-f5576b169aab"
      },
      "execution_count": null,
      "outputs": [
        {
          "output_type": "execute_result",
          "data": {
            "text/plain": [
              "(<tf.Tensor: shape=(3, 2), dtype=float32, numpy=\n",
              " array([[-0.7565803 , -0.06854702],\n",
              "        [ 0.07595026, -1.2573844 ],\n",
              "        [-0.23193765, -1.8107855 ]], dtype=float32)>,\n",
              " <tf.Tensor: shape=(3, 2), dtype=float32, numpy=\n",
              " array([[-0.7565803 , -0.06854702],\n",
              "        [ 0.07595026, -1.2573844 ],\n",
              "        [-0.23193765, -1.8107855 ]], dtype=float32)>,\n",
              " <tf.Tensor: shape=(3, 2), dtype=bool, numpy=\n",
              " array([[ True,  True],\n",
              "        [ True,  True],\n",
              "        [ True,  True]])>)"
            ]
          },
          "metadata": {},
          "execution_count": 2
        }
      ]
    },
    {
      "cell_type": "code",
      "source": [
        "# Shuffle a tensor (use for shuffling our data)\n",
        "tensor1 = tf.constant([[1, 2, 3, 4, 5, 6, 7, 8, 9],\n",
        "                       [8, 9, 1, 5, 4, 4, 9, 1, 3],\n",
        "                       [1, 6, 6, 8, 2, 6, 9, 1, 7]])\n",
        "tf.random.shuffle(tensor1)"
      ],
      "metadata": {
        "colab": {
          "base_uri": "https://localhost:8080/"
        },
        "id": "bNI6vOak775f",
        "outputId": "c52f5170-ccbc-41c1-eaf7-7489213d192e"
      },
      "execution_count": null,
      "outputs": [
        {
          "output_type": "execute_result",
          "data": {
            "text/plain": [
              "<tf.Tensor: shape=(3, 9), dtype=int32, numpy=\n",
              "array([[8, 9, 1, 5, 4, 4, 9, 1, 3],\n",
              "       [1, 2, 3, 4, 5, 6, 7, 8, 9],\n",
              "       [1, 6, 6, 8, 2, 6, 9, 1, 7]], dtype=int32)>"
            ]
          },
          "metadata": {},
          "execution_count": 3
        }
      ]
    },
    {
      "cell_type": "code",
      "source": [
        "tensor2 = tf.constant([[[1, 2],\n",
        "                        [3, 4],\n",
        "                        [8, 9]],\n",
        "                       [[5, 6],\n",
        "                        [7, 8],\n",
        "                        [10, 11]]])\n",
        "print(tensor2.ndim)\n",
        "tf.random.shuffle(tensor2)"
      ],
      "metadata": {
        "colab": {
          "base_uri": "https://localhost:8080/"
        },
        "id": "dkxD6P6xh4If",
        "outputId": "c5dda62c-cb09-4711-ad5f-84e52e3a04ce"
      },
      "execution_count": null,
      "outputs": [
        {
          "output_type": "stream",
          "name": "stdout",
          "text": [
            "3\n"
          ]
        },
        {
          "output_type": "execute_result",
          "data": {
            "text/plain": [
              "<tf.Tensor: shape=(2, 3, 2), dtype=int32, numpy=\n",
              "array([[[ 1,  2],\n",
              "        [ 3,  4],\n",
              "        [ 8,  9]],\n",
              "\n",
              "       [[ 5,  6],\n",
              "        [ 7,  8],\n",
              "        [10, 11]]], dtype=int32)>"
            ]
          },
          "metadata": {},
          "execution_count": 14
        }
      ]
    },
    {
      "cell_type": "code",
      "source": [
        "tf.random.shuffle(tensor1, seed= 42)"
      ],
      "metadata": {
        "colab": {
          "base_uri": "https://localhost:8080/"
        },
        "id": "MoyA8TQB85Rz",
        "outputId": "e8635caf-6d66-434d-8af4-e217dcd3de91"
      },
      "execution_count": null,
      "outputs": [
        {
          "output_type": "execute_result",
          "data": {
            "text/plain": [
              "<tf.Tensor: shape=(3, 9), dtype=int32, numpy=\n",
              "array([[8, 9, 1, 5, 4, 4, 9, 1, 3],\n",
              "       [1, 6, 6, 8, 2, 6, 9, 1, 7],\n",
              "       [1, 2, 3, 4, 5, 6, 7, 8, 9]], dtype=int32)>"
            ]
          },
          "metadata": {},
          "execution_count": 25
        }
      ]
    },
    {
      "cell_type": "code",
      "source": [
        "tf.random.set_seed(42)       # global seed\n",
        "tf.random.shuffle(tensor1, seed= 42)   # operation-level seed"
      ],
      "metadata": {
        "colab": {
          "base_uri": "https://localhost:8080/"
        },
        "id": "tov1efG4--U6",
        "outputId": "c30a8ba5-1480-4a5e-abe8-c1c7434188c1"
      },
      "execution_count": null,
      "outputs": [
        {
          "output_type": "execute_result",
          "data": {
            "text/plain": [
              "<tf.Tensor: shape=(3, 9), dtype=int32, numpy=\n",
              "array([[1, 2, 3, 4, 5, 6, 7, 8, 9],\n",
              "       [8, 9, 1, 5, 4, 4, 9, 1, 3],\n",
              "       [1, 6, 6, 8, 2, 6, 9, 1, 7]], dtype=int32)>"
            ]
          },
          "metadata": {},
          "execution_count": 21
        }
      ]
    },
    {
      "cell_type": "code",
      "source": [
        "tensor_1 = tf.random.Generator.from_seed(42)\n",
        "tensor_1 = tensor_1.normal(shape=(7, 4))\n",
        "tf.random.shuffle(tensor_1)"
      ],
      "metadata": {
        "colab": {
          "base_uri": "https://localhost:8080/"
        },
        "id": "qCpmqqGg_0rW",
        "outputId": "28040734-62fc-42a9-a369-b20991d86efe"
      },
      "execution_count": null,
      "outputs": [
        {
          "output_type": "execute_result",
          "data": {
            "text/plain": [
              "<tf.Tensor: shape=(7, 4), dtype=float32, numpy=\n",
              "array([[-0.48293006, -0.52447474, -1.0345329 ,  1.3066901 ],\n",
              "       [ 1.6874489 , -0.4462975 , -2.3410842 ,  0.99009085],\n",
              "       [-0.7535805 , -0.57166284,  0.1480774 , -0.23362993],\n",
              "       [-0.0876323 , -0.635568  , -0.6161736 , -1.9441465 ],\n",
              "       [-0.23193763, -1.8107855 ,  0.09988727, -0.50998646],\n",
              "       [-0.3522796 ,  0.40621263, -1.0523509 ,  1.2054597 ],\n",
              "       [-0.7565803 , -0.06854702,  0.07595026, -1.2573844 ]],\n",
              "      dtype=float32)>"
            ]
          },
          "metadata": {},
          "execution_count": 6
        }
      ]
    },
    {
      "cell_type": "code",
      "source": [
        "tf.ones((3, 4))"
      ],
      "metadata": {
        "colab": {
          "base_uri": "https://localhost:8080/"
        },
        "id": "g_AeiwnFKENA",
        "outputId": "5cbdc617-ed65-4dda-ee5e-d8c2487277d4"
      },
      "execution_count": null,
      "outputs": [
        {
          "output_type": "execute_result",
          "data": {
            "text/plain": [
              "<tf.Tensor: shape=(3, 4), dtype=float32, numpy=\n",
              "array([[1., 1., 1., 1.],\n",
              "       [1., 1., 1., 1.],\n",
              "       [1., 1., 1., 1.]], dtype=float32)>"
            ]
          },
          "metadata": {},
          "execution_count": 7
        }
      ]
    },
    {
      "cell_type": "code",
      "source": [
        "tf.zeros((5, 2))"
      ],
      "metadata": {
        "colab": {
          "base_uri": "https://localhost:8080/"
        },
        "id": "oZSHb2sbKJMF",
        "outputId": "55027dc9-537b-4fad-d854-8ec555b63e34"
      },
      "execution_count": null,
      "outputs": [
        {
          "output_type": "execute_result",
          "data": {
            "text/plain": [
              "<tf.Tensor: shape=(5, 2), dtype=float32, numpy=\n",
              "array([[0., 0.],\n",
              "       [0., 0.],\n",
              "       [0., 0.],\n",
              "       [0., 0.],\n",
              "       [0., 0.]], dtype=float32)>"
            ]
          },
          "metadata": {},
          "execution_count": 8
        }
      ]
    },
    {
      "cell_type": "code",
      "source": [
        "# Turn numpy arrays into tensors\n",
        "import numpy as np\n",
        "\n",
        "numpy_A = np.arange(1, 25, dtype= np.int64)\n",
        "A= tf.constant(numpy_A, shape=(2, 3, 4))\n",
        "B = tf.constant(numpy_A)\n",
        "A, A.shape, tf.size(A), A.ndim"
      ],
      "metadata": {
        "colab": {
          "base_uri": "https://localhost:8080/"
        },
        "id": "o6Advi0fKZto",
        "outputId": "4180f4ae-f200-479f-b1cc-083571e2f451"
      },
      "execution_count": null,
      "outputs": [
        {
          "output_type": "execute_result",
          "data": {
            "text/plain": [
              "(<tf.Tensor: shape=(2, 3, 4), dtype=int64, numpy=\n",
              " array([[[ 1,  2,  3,  4],\n",
              "         [ 5,  6,  7,  8],\n",
              "         [ 9, 10, 11, 12]],\n",
              " \n",
              "        [[13, 14, 15, 16],\n",
              "         [17, 18, 19, 20],\n",
              "         [21, 22, 23, 24]]])>,\n",
              " TensorShape([2, 3, 4]),\n",
              " <tf.Tensor: shape=(), dtype=int32, numpy=24>,\n",
              " 3)"
            ]
          },
          "metadata": {},
          "execution_count": 8
        }
      ]
    },
    {
      "cell_type": "code",
      "source": [
        "rank_4_tensor = tf.zeros(shape=(2, 4, 3, 6))\n",
        "rank_4_tensor"
      ],
      "metadata": {
        "id": "MLwBglcFN5K6",
        "colab": {
          "base_uri": "https://localhost:8080/"
        },
        "outputId": "01ee240d-f2f1-4c00-a005-99787ddecbae"
      },
      "execution_count": null,
      "outputs": [
        {
          "output_type": "execute_result",
          "data": {
            "text/plain": [
              "<tf.Tensor: shape=(2, 4, 3, 6), dtype=float32, numpy=\n",
              "array([[[[0., 0., 0., 0., 0., 0.],\n",
              "         [0., 0., 0., 0., 0., 0.],\n",
              "         [0., 0., 0., 0., 0., 0.]],\n",
              "\n",
              "        [[0., 0., 0., 0., 0., 0.],\n",
              "         [0., 0., 0., 0., 0., 0.],\n",
              "         [0., 0., 0., 0., 0., 0.]],\n",
              "\n",
              "        [[0., 0., 0., 0., 0., 0.],\n",
              "         [0., 0., 0., 0., 0., 0.],\n",
              "         [0., 0., 0., 0., 0., 0.]],\n",
              "\n",
              "        [[0., 0., 0., 0., 0., 0.],\n",
              "         [0., 0., 0., 0., 0., 0.],\n",
              "         [0., 0., 0., 0., 0., 0.]]],\n",
              "\n",
              "\n",
              "       [[[0., 0., 0., 0., 0., 0.],\n",
              "         [0., 0., 0., 0., 0., 0.],\n",
              "         [0., 0., 0., 0., 0., 0.]],\n",
              "\n",
              "        [[0., 0., 0., 0., 0., 0.],\n",
              "         [0., 0., 0., 0., 0., 0.],\n",
              "         [0., 0., 0., 0., 0., 0.]],\n",
              "\n",
              "        [[0., 0., 0., 0., 0., 0.],\n",
              "         [0., 0., 0., 0., 0., 0.],\n",
              "         [0., 0., 0., 0., 0., 0.]],\n",
              "\n",
              "        [[0., 0., 0., 0., 0., 0.],\n",
              "         [0., 0., 0., 0., 0., 0.],\n",
              "         [0., 0., 0., 0., 0., 0.]]]], dtype=float32)>"
            ]
          },
          "metadata": {},
          "execution_count": 24
        }
      ]
    },
    {
      "cell_type": "code",
      "source": [
        "rank_4_tensor[1]"
      ],
      "metadata": {
        "colab": {
          "base_uri": "https://localhost:8080/"
        },
        "id": "IjPVq-22I1ju",
        "outputId": "093ad843-3199-4ee1-dd91-f113094615cb"
      },
      "execution_count": null,
      "outputs": [
        {
          "output_type": "execute_result",
          "data": {
            "text/plain": [
              "<tf.Tensor: shape=(4, 3, 6), dtype=float32, numpy=\n",
              "array([[[0., 0., 0., 0., 0., 0.],\n",
              "        [0., 0., 0., 0., 0., 0.],\n",
              "        [0., 0., 0., 0., 0., 0.]],\n",
              "\n",
              "       [[0., 0., 0., 0., 0., 0.],\n",
              "        [0., 0., 0., 0., 0., 0.],\n",
              "        [0., 0., 0., 0., 0., 0.]],\n",
              "\n",
              "       [[0., 0., 0., 0., 0., 0.],\n",
              "        [0., 0., 0., 0., 0., 0.],\n",
              "        [0., 0., 0., 0., 0., 0.]],\n",
              "\n",
              "       [[0., 0., 0., 0., 0., 0.],\n",
              "        [0., 0., 0., 0., 0., 0.],\n",
              "        [0., 0., 0., 0., 0., 0.]]], dtype=float32)>"
            ]
          },
          "metadata": {},
          "execution_count": 15
        }
      ]
    },
    {
      "cell_type": "code",
      "source": [
        "rank_4_tensor.shape, rank_4_tensor.ndim, tf.size(rank_4_tensor), rank_4_tensor.dtype"
      ],
      "metadata": {
        "colab": {
          "base_uri": "https://localhost:8080/"
        },
        "id": "mxAhLTmEKWtY",
        "outputId": "a1dcd6cd-a66d-4436-f5df-b27d2e71aa2d"
      },
      "execution_count": null,
      "outputs": [
        {
          "output_type": "execute_result",
          "data": {
            "text/plain": [
              "(TensorShape([2, 4, 3, 6]),\n",
              " 4,\n",
              " <tf.Tensor: shape=(), dtype=int32, numpy=144>,\n",
              " tf.float32)"
            ]
          },
          "metadata": {},
          "execution_count": 17
        }
      ]
    },
    {
      "cell_type": "code",
      "source": [
        "rank_4_tensor[-1, -1, -1 , -1]"
      ],
      "metadata": {
        "colab": {
          "base_uri": "https://localhost:8080/"
        },
        "id": "F2i4nJDkLc31",
        "outputId": "cdea6318-1e44-4a2f-81e6-b8e2c90c085b"
      },
      "execution_count": null,
      "outputs": [
        {
          "output_type": "execute_result",
          "data": {
            "text/plain": [
              "<tf.Tensor: shape=(), dtype=float32, numpy=0.0>"
            ]
          },
          "metadata": {},
          "execution_count": 19
        }
      ]
    },
    {
      "cell_type": "code",
      "source": [
        "print(tf.size(rank_4_tensor))\n",
        "print(tf.size(rank_4_tensor).dtype)\n",
        "print(tf.size(rank_4_tensor).numpy())"
      ],
      "metadata": {
        "colab": {
          "base_uri": "https://localhost:8080/"
        },
        "id": "FdZt9jO8L3EB",
        "outputId": "d66f74f5-ee32-4550-c5df-4a8b9e20f943"
      },
      "execution_count": null,
      "outputs": [
        {
          "output_type": "stream",
          "name": "stdout",
          "text": [
            "tf.Tensor(144, shape=(), dtype=int32)\n",
            "<dtype: 'int32'>\n",
            "144\n"
          ]
        }
      ]
    },
    {
      "cell_type": "code",
      "source": [
        "rank_4_tensor[:2, :2, :2, :2]"
      ],
      "metadata": {
        "colab": {
          "base_uri": "https://localhost:8080/"
        },
        "id": "PI52d52YScHd",
        "outputId": "3f4294b5-dea0-446c-8a89-f3dea6216c3a"
      },
      "execution_count": null,
      "outputs": [
        {
          "output_type": "execute_result",
          "data": {
            "text/plain": [
              "<tf.Tensor: shape=(2, 2, 2, 2), dtype=float32, numpy=\n",
              "array([[[[0., 0.],\n",
              "         [0., 0.]],\n",
              "\n",
              "        [[0., 0.],\n",
              "         [0., 0.]]],\n",
              "\n",
              "\n",
              "       [[[0., 0.],\n",
              "         [0., 0.]],\n",
              "\n",
              "        [[0., 0.],\n",
              "         [0., 0.]]]], dtype=float32)>"
            ]
          },
          "metadata": {},
          "execution_count": 25
        }
      ]
    },
    {
      "cell_type": "code",
      "source": [
        "rank_2_tensor = tf.ones(shape=(4, 2))\n",
        "rank_2_tensor"
      ],
      "metadata": {
        "colab": {
          "base_uri": "https://localhost:8080/"
        },
        "id": "aiQ5RI_gT6e2",
        "outputId": "99094a75-e6c1-4a01-cb76-43064050a9d8"
      },
      "execution_count": null,
      "outputs": [
        {
          "output_type": "execute_result",
          "data": {
            "text/plain": [
              "<tf.Tensor: shape=(4, 2), dtype=float32, numpy=\n",
              "array([[1., 1.],\n",
              "       [1., 1.],\n",
              "       [1., 1.],\n",
              "       [1., 1.]], dtype=float32)>"
            ]
          },
          "metadata": {},
          "execution_count": 26
        }
      ]
    },
    {
      "cell_type": "code",
      "source": [
        "rank_2_tensor[:, -1]"
      ],
      "metadata": {
        "colab": {
          "base_uri": "https://localhost:8080/"
        },
        "id": "IV2EXRs7UhJW",
        "outputId": "d4ff2bbb-654b-424c-f193-b43a1e030bc3"
      },
      "execution_count": null,
      "outputs": [
        {
          "output_type": "execute_result",
          "data": {
            "text/plain": [
              "<tf.Tensor: shape=(4,), dtype=float32, numpy=array([1., 1., 1., 1.], dtype=float32)>"
            ]
          },
          "metadata": {},
          "execution_count": 27
        }
      ]
    },
    {
      "cell_type": "code",
      "source": [
        "rank_2_tensor = tf.constant([[1, 4],\n",
        "                             [7, 3]])\n",
        "rank_3_tensor = rank_2_tensor[:, tf.newaxis, :]\n",
        "rank_3_tensor"
      ],
      "metadata": {
        "colab": {
          "base_uri": "https://localhost:8080/"
        },
        "id": "O1F0ykp3UlY3",
        "outputId": "6a06d540-03f3-4b7d-f7f1-c9bc5ca8db93"
      },
      "execution_count": null,
      "outputs": [
        {
          "output_type": "execute_result",
          "data": {
            "text/plain": [
              "<tf.Tensor: shape=(2, 1, 2), dtype=int32, numpy=\n",
              "array([[[1, 4]],\n",
              "\n",
              "       [[7, 3]]], dtype=int32)>"
            ]
          },
          "metadata": {},
          "execution_count": 4
        }
      ]
    },
    {
      "cell_type": "code",
      "source": [
        "tf.expand_dims(rank_2_tensor, axis= -1)"
      ],
      "metadata": {
        "colab": {
          "base_uri": "https://localhost:8080/"
        },
        "id": "QmCiaVLpXz0T",
        "outputId": "1b3b223a-b068-4241-cd27-0780f862a6c8"
      },
      "execution_count": null,
      "outputs": [
        {
          "output_type": "execute_result",
          "data": {
            "text/plain": [
              "<tf.Tensor: shape=(2, 2, 1), dtype=int32, numpy=\n",
              "array([[[1],\n",
              "        [4]],\n",
              "\n",
              "       [[7],\n",
              "        [3]]], dtype=int32)>"
            ]
          },
          "metadata": {},
          "execution_count": 31
        }
      ]
    },
    {
      "cell_type": "code",
      "source": [
        "tensor_1 = rank_2_tensor[:, tf.newaxis]\n",
        "tensor_1"
      ],
      "metadata": {
        "colab": {
          "base_uri": "https://localhost:8080/"
        },
        "id": "G43elw-CXBu-",
        "outputId": "3208ed92-991b-4066-8c4e-901e254c86ed"
      },
      "execution_count": null,
      "outputs": [
        {
          "output_type": "execute_result",
          "data": {
            "text/plain": [
              "<tf.Tensor: shape=(2, 1, 2), dtype=int32, numpy=\n",
              "array([[[1, 4]],\n",
              "\n",
              "       [[7, 3]]], dtype=int32)>"
            ]
          },
          "metadata": {},
          "execution_count": 30
        }
      ]
    },
    {
      "cell_type": "code",
      "source": [
        "rank_3_tensor = rank_2_tensor[:, :, tf.newaxis]\n",
        "rank_3_tensor"
      ],
      "metadata": {
        "id": "ekuoCYOodMhl",
        "outputId": "2c9282c2-8e1f-4c6d-ad40-11d395ab4090",
        "colab": {
          "base_uri": "https://localhost:8080/"
        }
      },
      "execution_count": null,
      "outputs": [
        {
          "output_type": "execute_result",
          "data": {
            "text/plain": [
              "<tf.Tensor: shape=(2, 2, 1), dtype=int32, numpy=\n",
              "array([[[1],\n",
              "        [4]],\n",
              "\n",
              "       [[7],\n",
              "        [3]]], dtype=int32)>"
            ]
          },
          "metadata": {},
          "execution_count": 32
        }
      ]
    },
    {
      "cell_type": "markdown",
      "source": [
        "### Manipulating tensors"
      ],
      "metadata": {
        "id": "GWvh1WGGQBTw"
      }
    },
    {
      "cell_type": "code",
      "source": [
        "# Basic operations\n",
        "tensor_1 = tf.constant([[1, 4],\n",
        "                        [7, 9]])\n",
        "print(tensor_1 + 10)\n",
        "print(tensor_1 - 10)\n",
        "print(tensor_1 * 10)\n",
        "print(tensor_1 / 10)"
      ],
      "metadata": {
        "colab": {
          "base_uri": "https://localhost:8080/"
        },
        "id": "rTPbUIp2QGv4",
        "outputId": "b7fd83b4-ed19-4b52-dd19-b2e0940971fd"
      },
      "execution_count": null,
      "outputs": [
        {
          "output_type": "stream",
          "name": "stdout",
          "text": [
            "tf.Tensor(\n",
            "[[11 14]\n",
            " [17 19]], shape=(2, 2), dtype=int32)\n",
            "tf.Tensor(\n",
            "[[-9 -6]\n",
            " [-3 -1]], shape=(2, 2), dtype=int32)\n",
            "tf.Tensor(\n",
            "[[10 40]\n",
            " [70 90]], shape=(2, 2), dtype=int32)\n",
            "tf.Tensor(\n",
            "[[0.1 0.4]\n",
            " [0.7 0.9]], shape=(2, 2), dtype=float64)\n"
          ]
        }
      ]
    },
    {
      "cell_type": "code",
      "source": [
        "# Tensot flow built-in basic operator\n",
        "tensor_1 = tf.constant([[1, 4],\n",
        "                       [7, 9]])\n",
        "print(tf.add(tensor_1, 10))\n",
        "print(tf.subtract(tensor_1, 10))\n",
        "print(tf.multiply(tensor_1, 10))\n",
        "print(tf.divide(tensor_1, 10))"
      ],
      "metadata": {
        "colab": {
          "base_uri": "https://localhost:8080/"
        },
        "id": "HYs1k5ArRh5a",
        "outputId": "bd3b5d8c-a464-47c2-fe07-e185030ecb93"
      },
      "execution_count": null,
      "outputs": [
        {
          "output_type": "stream",
          "name": "stdout",
          "text": [
            "tf.Tensor(\n",
            "[[11 14]\n",
            " [17 19]], shape=(2, 2), dtype=int32)\n",
            "tf.Tensor(\n",
            "[[-9 -6]\n",
            " [-3 -1]], shape=(2, 2), dtype=int32)\n",
            "tf.Tensor(\n",
            "[[10 40]\n",
            " [70 90]], shape=(2, 2), dtype=int32)\n",
            "tf.Tensor(\n",
            "[[0.1 0.4]\n",
            " [0.7 0.9]], shape=(2, 2), dtype=float64)\n"
          ]
        }
      ]
    },
    {
      "cell_type": "code",
      "source": [
        "# Matrix muitiplicaton (dot product) in tensorflow\n",
        "tensor_1 = tf.constant([[6, 8],\n",
        "                        [7, 9]])\n",
        "print(tf.matmul(tensor_1, tensor_1))\n",
        "print(tensor_1 * tensor_1)  # element-wise multiply\n",
        "print(tensor_1 @ tensor_1)  # matrix multiplication in python"
      ],
      "metadata": {
        "colab": {
          "base_uri": "https://localhost:8080/"
        },
        "id": "5inGenXeTH-h",
        "outputId": "5584bf7c-0e55-49da-f4fa-6c66dbd08850"
      },
      "execution_count": null,
      "outputs": [
        {
          "output_type": "stream",
          "name": "stdout",
          "text": [
            "tf.Tensor(\n",
            "[[ 92 120]\n",
            " [105 137]], shape=(2, 2), dtype=int32)\n",
            "tf.Tensor(\n",
            "[[36 64]\n",
            " [49 81]], shape=(2, 2), dtype=int32)\n",
            "tf.Tensor(\n",
            "[[ 92 120]\n",
            " [105 137]], shape=(2, 2), dtype=int32)\n"
          ]
        }
      ]
    },
    {
      "cell_type": "code",
      "source": [
        "tensor_1 = tf.constant([[4, 7],\n",
        "                        [5, 8],\n",
        "                        [6, 9]])  # shape=(3, 2)\n",
        "tensor_2 = tf.constant([[8, 7],\n",
        "                        [5, 3],\n",
        "                        [1, 2]])  # shape=(3, 2)\n",
        "# tf.matmul(tensor_1, tensor_2)   # error for shape incompatible"
      ],
      "metadata": {
        "id": "vDrzJZs4XhH1"
      },
      "execution_count": null,
      "outputs": []
    },
    {
      "cell_type": "code",
      "source": [
        "tensor_1 = tf.constant([[4, 7],\n",
        "                        [5, 8],\n",
        "                        [6, 9]])  # shape=(3, 2)\n",
        "tensor_2 = tf.constant([[8, 7],\n",
        "                        [5, 3],\n",
        "                        [1, 2]])  # shape=(3, 2)\n",
        "tensor_2_reshaped = tf.reshape(tensor_2, shape=(2, 3))\n",
        "tf.matmul(tensor_1, tensor_2_reshaped)"
      ],
      "metadata": {
        "id": "v2l7IlHxZrQo",
        "colab": {
          "base_uri": "https://localhost:8080/"
        },
        "outputId": "5de7b5cf-65ad-4798-caf6-2841fdd43eee"
      },
      "execution_count": null,
      "outputs": [
        {
          "output_type": "execute_result",
          "data": {
            "text/plain": [
              "<tf.Tensor: shape=(3, 3), dtype=int32, numpy=\n",
              "array([[53, 35, 34],\n",
              "       [64, 43, 41],\n",
              "       [75, 51, 48]], dtype=int32)>"
            ]
          },
          "metadata": {},
          "execution_count": 4
        }
      ]
    },
    {
      "cell_type": "code",
      "source": [
        "tensor_1 = tf.constant([[4, 7],\n",
        "                        [5, 8],\n",
        "                        [6, 9]])  # shape=(3, 2)\n",
        "tensor_2 = tf.constant([[8, 7],\n",
        "                        [5, 3],\n",
        "                        [1, 2]])  # shape=(3, 2)\n",
        "tensor_2_transposed = tf.transpose(tensor_2)\n",
        "tf.matmul(tensor_1, tensor_2_transposed)"
      ],
      "metadata": {
        "colab": {
          "base_uri": "https://localhost:8080/"
        },
        "id": "z09PKD7jAOUb",
        "outputId": "7da946de-a95e-4394-f7aa-ddd01051497f"
      },
      "execution_count": null,
      "outputs": [
        {
          "output_type": "execute_result",
          "data": {
            "text/plain": [
              "<tf.Tensor: shape=(3, 3), dtype=int32, numpy=\n",
              "array([[ 81,  41,  18],\n",
              "       [ 96,  49,  21],\n",
              "       [111,  57,  24]], dtype=int32)>"
            ]
          },
          "metadata": {},
          "execution_count": 6
        }
      ]
    },
    {
      "cell_type": "code",
      "source": [
        "tf.tensordot(tensor_1, tensor_2_transposed, axes= 1)"
      ],
      "metadata": {
        "colab": {
          "base_uri": "https://localhost:8080/"
        },
        "id": "PMWuu9QeEoVw",
        "outputId": "0ddb4d46-a6c3-4505-de7b-5576f83e3347"
      },
      "execution_count": null,
      "outputs": [
        {
          "output_type": "execute_result",
          "data": {
            "text/plain": [
              "<tf.Tensor: shape=(3, 3), dtype=int32, numpy=\n",
              "array([[ 81,  41,  18],\n",
              "       [ 96,  49,  21],\n",
              "       [111,  57,  24]], dtype=int32)>"
            ]
          },
          "metadata": {},
          "execution_count": 11
        }
      ]
    },
    {
      "cell_type": "markdown",
      "source": [
        "#### Changing the dtypes"
      ],
      "metadata": {
        "id": "HKQN6lthHmc7"
      }
    },
    {
      "cell_type": "code",
      "source": [
        "A = tf.constant([1.5, 7.4, 9.2])\n",
        "print(A.dtype)\n",
        "B = tf.constant([1, 4, 2])\n",
        "print(B.dtype)"
      ],
      "metadata": {
        "colab": {
          "base_uri": "https://localhost:8080/"
        },
        "id": "xPIUhV-gHvXT",
        "outputId": "0d3498f3-0962-47c9-a789-df6258115bdb"
      },
      "execution_count": null,
      "outputs": [
        {
          "output_type": "stream",
          "name": "stdout",
          "text": [
            "<dtype: 'float32'>\n",
            "<dtype: 'int32'>\n"
          ]
        }
      ]
    },
    {
      "cell_type": "code",
      "source": [
        "C = tf.cast(A, dtype= tf.float16)\n",
        "print(C.dtype)\n",
        "D = tf.cast(B, dtype= tf.int16)\n",
        "print(D.dtype)\n",
        "E = tf.cast(B, dtype= tf.float32)\n",
        "print(E)\n",
        "print(E.dtype)"
      ],
      "metadata": {
        "colab": {
          "base_uri": "https://localhost:8080/"
        },
        "id": "vWDtYFjFIKH6",
        "outputId": "97faf8b8-f4f2-4ae7-89ae-663ea72e8ebd"
      },
      "execution_count": null,
      "outputs": [
        {
          "output_type": "stream",
          "name": "stdout",
          "text": [
            "<dtype: 'float16'>\n",
            "<dtype: 'int16'>\n",
            "tf.Tensor([1. 4. 2.], shape=(3,), dtype=float32)\n",
            "<dtype: 'float32'>\n"
          ]
        }
      ]
    },
    {
      "cell_type": "markdown",
      "source": [
        "#### Aggregation tensors"
      ],
      "metadata": {
        "id": "m8KvIeD6k3T1"
      }
    },
    {
      "cell_type": "code",
      "source": [
        "# Get the absolute values\n",
        "tensor_1 = tf.constant([-2, -5, -8, -6])\n",
        "tf.abs(tensor_1)"
      ],
      "metadata": {
        "colab": {
          "base_uri": "https://localhost:8080/"
        },
        "id": "VHoET69zk_JK",
        "outputId": "038e8f26-a95b-4ae5-e1a8-d44ff70e528b"
      },
      "execution_count": null,
      "outputs": [
        {
          "output_type": "execute_result",
          "data": {
            "text/plain": [
              "<tf.Tensor: shape=(4,), dtype=int32, numpy=array([2, 5, 8, 6], dtype=int32)>"
            ]
          },
          "metadata": {},
          "execution_count": 32
        }
      ]
    },
    {
      "cell_type": "code",
      "source": [
        "import numpy as np\n",
        "tensor_1 = tf.constant(np.random.randint(0, 100, size= 50))\n",
        "tensor_1"
      ],
      "metadata": {
        "colab": {
          "base_uri": "https://localhost:8080/"
        },
        "id": "7VWURVSblUm2",
        "outputId": "94ba726e-3efa-4565-b72b-5bb2eaf7171e"
      },
      "execution_count": null,
      "outputs": [
        {
          "output_type": "execute_result",
          "data": {
            "text/plain": [
              "<tf.Tensor: shape=(50,), dtype=int64, numpy=\n",
              "array([40, 66, 79, 79, 14, 75, 92, 93, 76, 37, 69, 84, 10, 59,  5, 63, 64,\n",
              "       75, 25, 43, 91, 53, 76, 57, 43, 82, 80, 82, 42, 44, 40, 53, 64, 21,\n",
              "        9, 23, 46, 96, 50,  3,  8, 56, 79, 21, 37, 55, 89, 36, 93, 16])>"
            ]
          },
          "metadata": {},
          "execution_count": 2
        }
      ]
    },
    {
      "cell_type": "code",
      "source": [
        "len(tensor_1), tf.size(tensor_1), tensor_1.shape, tensor_1.ndim"
      ],
      "metadata": {
        "colab": {
          "base_uri": "https://localhost:8080/"
        },
        "id": "-Z4AaMOfnKO3",
        "outputId": "e887f4eb-4498-40a4-c8b4-360a6a369250"
      },
      "execution_count": null,
      "outputs": [
        {
          "output_type": "execute_result",
          "data": {
            "text/plain": [
              "(50, <tf.Tensor: shape=(), dtype=int32, numpy=50>, TensorShape([50]), 1)"
            ]
          },
          "metadata": {},
          "execution_count": 3
        }
      ]
    },
    {
      "cell_type": "code",
      "source": [
        "print(tf.reduce_min(tensor_1))\n",
        "print(tf.reduce_max(tensor_1))\n",
        "print(tf.reduce_mean(tensor_1))\n",
        "print(tf.reduce_sum(tensor_1))"
      ],
      "metadata": {
        "colab": {
          "base_uri": "https://localhost:8080/"
        },
        "id": "k4mz1cU1ngGw",
        "outputId": "6796553c-f422-4d94-e3bf-0e9b1ce61147"
      },
      "execution_count": null,
      "outputs": [
        {
          "output_type": "stream",
          "name": "stdout",
          "text": [
            "tf.Tensor(3, shape=(), dtype=int64)\n",
            "tf.Tensor(96, shape=(), dtype=int64)\n",
            "tf.Tensor(53, shape=(), dtype=int64)\n",
            "tf.Tensor(2693, shape=(), dtype=int64)\n"
          ]
        }
      ]
    },
    {
      "cell_type": "code",
      "source": [
        "import tensorflow_probability as tfp\n",
        "print(tfp.stats.variance(tensor_1))\n",
        "print(tf.math.reduce_variance(tf.cast(tensor_1, dtype= tf.float32)))"
      ],
      "metadata": {
        "colab": {
          "base_uri": "https://localhost:8080/"
        },
        "id": "cMijFI_wmHBm",
        "outputId": "f6ce1def-d827-4838-a056-72eed04e5849"
      },
      "execution_count": null,
      "outputs": [
        {
          "output_type": "stream",
          "name": "stdout",
          "text": [
            "tf.Tensor(728, shape=(), dtype=int64)\n",
            "tf.Tensor(727.3204, shape=(), dtype=float32)\n"
          ]
        }
      ]
    },
    {
      "cell_type": "code",
      "source": [
        "print(tf.math.reduce_std(tf.cast(tensor_1, dtype= tf.float32)))"
      ],
      "metadata": {
        "colab": {
          "base_uri": "https://localhost:8080/"
        },
        "id": "IYbl4EWLm-bW",
        "outputId": "7174eed0-e4d6-47a2-ec93-841c23a26068"
      },
      "execution_count": null,
      "outputs": [
        {
          "output_type": "stream",
          "name": "stdout",
          "text": [
            "tf.Tensor(26.968878, shape=(), dtype=float32)\n"
          ]
        }
      ]
    },
    {
      "cell_type": "code",
      "source": [
        "# Find the positional max and min (index)\n",
        "tf.random.set_seed(42)\n",
        "tensor_1 = tf.random.uniform(shape=[250])\n",
        "print(tensor_1[:10])\n",
        "\n",
        "print(tf.argmax(tensor_1)) # index\n",
        "print(tf.argmin(tensor_1)) # index"
      ],
      "metadata": {
        "colab": {
          "base_uri": "https://localhost:8080/"
        },
        "id": "1-WPdHf9p6Dq",
        "outputId": "c0822c80-19e8-4080-e395-76d303b7e55e"
      },
      "execution_count": null,
      "outputs": [
        {
          "output_type": "stream",
          "name": "stdout",
          "text": [
            "tf.Tensor(\n",
            "[0.6645621  0.44100678 0.3528825  0.46448255 0.03366041 0.68467236\n",
            " 0.74011743 0.8724445  0.22632635 0.22319686], shape=(10,), dtype=float32)\n",
            "tf.Tensor(201, shape=(), dtype=int64)\n",
            "tf.Tensor(236, shape=(), dtype=int64)\n"
          ]
        }
      ]
    },
    {
      "cell_type": "code",
      "source": [
        "print(tensor_1[tf.argmax(tensor_1)])  # value\n",
        "print(tensor_1[tf.argmin(tensor_1)])  # value"
      ],
      "metadata": {
        "colab": {
          "base_uri": "https://localhost:8080/"
        },
        "id": "d_7LL9k2tzve",
        "outputId": "3ac489de-d70c-423c-fe0e-d1d54ad8afb1"
      },
      "execution_count": null,
      "outputs": [
        {
          "output_type": "stream",
          "name": "stdout",
          "text": [
            "tf.Tensor(0.9823284, shape=(), dtype=float32)\n",
            "tf.Tensor(0.00030374527, shape=(), dtype=float32)\n"
          ]
        }
      ]
    },
    {
      "cell_type": "code",
      "source": [
        "print(tensor_1[tf.argmax(tensor_1)] == tf.reduce_max(tensor_1))\n",
        "print(tensor_1[tf.argmin(tensor_1)] == tf.reduce_min(tensor_1))"
      ],
      "metadata": {
        "colab": {
          "base_uri": "https://localhost:8080/"
        },
        "id": "cG0KhujZwE-I",
        "outputId": "b77ce0a2-9cba-4628-9d71-79093a4d1f9c"
      },
      "execution_count": null,
      "outputs": [
        {
          "output_type": "stream",
          "name": "stdout",
          "text": [
            "tf.Tensor(True, shape=(), dtype=bool)\n",
            "tf.Tensor(True, shape=(), dtype=bool)\n"
          ]
        }
      ]
    },
    {
      "cell_type": "markdown",
      "source": [
        "#### Squeezing a tensor (removing all single dimensions)"
      ],
      "metadata": {
        "id": "PS7LnLhwwUTY"
      }
    },
    {
      "cell_type": "code",
      "source": [
        "tf.random.set_seed(42)\n",
        "tensor_1 = tf.constant(tf.random.uniform(shape=[50]), shape=(1, 1, 1 ,1, 50))\n",
        "tensor_1"
      ],
      "metadata": {
        "colab": {
          "base_uri": "https://localhost:8080/"
        },
        "id": "HVpKoVzUebr-",
        "outputId": "3110709f-461a-4ae7-e2ff-bcc44c1ea213"
      },
      "execution_count": null,
      "outputs": [
        {
          "output_type": "execute_result",
          "data": {
            "text/plain": [
              "<tf.Tensor: shape=(1, 1, 1, 1, 50), dtype=float32, numpy=\n",
              "array([[[[[0.6645621 , 0.44100678, 0.3528825 , 0.46448255, 0.03366041,\n",
              "           0.68467236, 0.74011743, 0.8724445 , 0.22632635, 0.22319686,\n",
              "           0.3103881 , 0.7223358 , 0.13318717, 0.5480639 , 0.5746088 ,\n",
              "           0.8996835 , 0.00946367, 0.5212307 , 0.6345445 , 0.1993283 ,\n",
              "           0.72942245, 0.54583454, 0.10756552, 0.6767061 , 0.6602763 ,\n",
              "           0.33695042, 0.60141766, 0.21062577, 0.8527372 , 0.44062173,\n",
              "           0.9485276 , 0.23752594, 0.81179297, 0.5263394 , 0.494308  ,\n",
              "           0.21612847, 0.8457197 , 0.8718841 , 0.3083862 , 0.6868038 ,\n",
              "           0.23764038, 0.7817228 , 0.9671384 , 0.06870162, 0.79873943,\n",
              "           0.66028714, 0.5871513 , 0.16461694, 0.7381023 , 0.32054043]]]]],\n",
              "      dtype=float32)>"
            ]
          },
          "metadata": {},
          "execution_count": 7
        }
      ]
    },
    {
      "cell_type": "code",
      "source": [
        "tensor_1.shape"
      ],
      "metadata": {
        "colab": {
          "base_uri": "https://localhost:8080/"
        },
        "id": "V-lvRkV2etrc",
        "outputId": "80502d84-aaf3-4b86-8a6c-7728565b310c"
      },
      "execution_count": null,
      "outputs": [
        {
          "output_type": "execute_result",
          "data": {
            "text/plain": [
              "TensorShape([1, 1, 1, 1, 50])"
            ]
          },
          "metadata": {},
          "execution_count": 8
        }
      ]
    },
    {
      "cell_type": "code",
      "source": [
        "tensor_1_squeezed = tf.squeeze(tensor_1)\n",
        "tensor_1_squeezed, tensor_1_squeezed.shape"
      ],
      "metadata": {
        "colab": {
          "base_uri": "https://localhost:8080/"
        },
        "id": "k3w9m1vjfxg5",
        "outputId": "3ffed726-a1f5-49d1-e876-e8cc5a77fabb"
      },
      "execution_count": null,
      "outputs": [
        {
          "output_type": "execute_result",
          "data": {
            "text/plain": [
              "(<tf.Tensor: shape=(50,), dtype=float32, numpy=\n",
              " array([0.6645621 , 0.44100678, 0.3528825 , 0.46448255, 0.03366041,\n",
              "        0.68467236, 0.74011743, 0.8724445 , 0.22632635, 0.22319686,\n",
              "        0.3103881 , 0.7223358 , 0.13318717, 0.5480639 , 0.5746088 ,\n",
              "        0.8996835 , 0.00946367, 0.5212307 , 0.6345445 , 0.1993283 ,\n",
              "        0.72942245, 0.54583454, 0.10756552, 0.6767061 , 0.6602763 ,\n",
              "        0.33695042, 0.60141766, 0.21062577, 0.8527372 , 0.44062173,\n",
              "        0.9485276 , 0.23752594, 0.81179297, 0.5263394 , 0.494308  ,\n",
              "        0.21612847, 0.8457197 , 0.8718841 , 0.3083862 , 0.6868038 ,\n",
              "        0.23764038, 0.7817228 , 0.9671384 , 0.06870162, 0.79873943,\n",
              "        0.66028714, 0.5871513 , 0.16461694, 0.7381023 , 0.32054043],\n",
              "       dtype=float32)>,\n",
              " TensorShape([50]))"
            ]
          },
          "metadata": {},
          "execution_count": 11
        }
      ]
    },
    {
      "cell_type": "markdown",
      "source": [
        "#### One-hot encoding tensor"
      ],
      "metadata": {
        "id": "R9HGy6fHhtc5"
      }
    },
    {
      "cell_type": "code",
      "source": [
        "color = [\"Green\", \"Red\", \"Blue\", \"Yellow\"]\n",
        "some_list = [0, 1, 2, 3]\n",
        "\n",
        "tf.one_hot(some_list, depth= 4)"
      ],
      "metadata": {
        "colab": {
          "base_uri": "https://localhost:8080/"
        },
        "id": "5uMeyOrKjF5Y",
        "outputId": "3e3fc8f4-37d4-4394-fd37-711abc829bc3"
      },
      "execution_count": null,
      "outputs": [
        {
          "output_type": "execute_result",
          "data": {
            "text/plain": [
              "<tf.Tensor: shape=(4, 4), dtype=float32, numpy=\n",
              "array([[1., 0., 0., 0.],\n",
              "       [0., 1., 0., 0.],\n",
              "       [0., 0., 1., 0.],\n",
              "       [0., 0., 0., 1.]], dtype=float32)>"
            ]
          },
          "metadata": {},
          "execution_count": 4
        }
      ]
    },
    {
      "cell_type": "code",
      "source": [
        "tf.one_hot(some_list, depth= 4, on_value= \"Yes\", off_value= \"No\")"
      ],
      "metadata": {
        "colab": {
          "base_uri": "https://localhost:8080/"
        },
        "id": "Z-A3pswwjRA9",
        "outputId": "6859a844-260c-4eac-a6c3-536dcd67546f"
      },
      "execution_count": null,
      "outputs": [
        {
          "output_type": "execute_result",
          "data": {
            "text/plain": [
              "<tf.Tensor: shape=(4, 4), dtype=string, numpy=\n",
              "array([[b'Yes', b'No', b'No', b'No'],\n",
              "       [b'No', b'Yes', b'No', b'No'],\n",
              "       [b'No', b'No', b'Yes', b'No'],\n",
              "       [b'No', b'No', b'No', b'Yes']], dtype=object)>"
            ]
          },
          "metadata": {},
          "execution_count": 5
        }
      ]
    },
    {
      "cell_type": "markdown",
      "source": [
        "#### Square, Squreroot, log"
      ],
      "metadata": {
        "id": "tkOiFnnsnNIX"
      }
    },
    {
      "cell_type": "code",
      "source": [
        "tensor_1 = tf.range(1, 10)\n",
        "tensor_1"
      ],
      "metadata": {
        "colab": {
          "base_uri": "https://localhost:8080/"
        },
        "id": "xN9iWrKhoaPp",
        "outputId": "71df093b-48bc-4f3c-940c-2549a967298c"
      },
      "execution_count": null,
      "outputs": [
        {
          "output_type": "execute_result",
          "data": {
            "text/plain": [
              "<tf.Tensor: shape=(9,), dtype=int32, numpy=array([1, 2, 3, 4, 5, 6, 7, 8, 9], dtype=int32)>"
            ]
          },
          "metadata": {},
          "execution_count": 6
        }
      ]
    },
    {
      "cell_type": "code",
      "source": [
        "tf.square(tensor_1)"
      ],
      "metadata": {
        "colab": {
          "base_uri": "https://localhost:8080/"
        },
        "id": "FpHuMDnpoyIb",
        "outputId": "249b41e9-1b6a-4df1-d9af-acbe6af51483"
      },
      "execution_count": null,
      "outputs": [
        {
          "output_type": "execute_result",
          "data": {
            "text/plain": [
              "<tf.Tensor: shape=(9,), dtype=int32, numpy=array([ 1,  4,  9, 16, 25, 36, 49, 64, 81], dtype=int32)>"
            ]
          },
          "metadata": {},
          "execution_count": 7
        }
      ]
    },
    {
      "cell_type": "code",
      "source": [
        "tf.sqrt(tf.cast(tensor_1, dtype= tf.float64))   # not int data type"
      ],
      "metadata": {
        "colab": {
          "base_uri": "https://localhost:8080/"
        },
        "id": "0uMgthNAo2_d",
        "outputId": "c7758b0c-1901-4dbd-f5c6-4054bd793eae"
      },
      "execution_count": null,
      "outputs": [
        {
          "output_type": "execute_result",
          "data": {
            "text/plain": [
              "<tf.Tensor: shape=(9,), dtype=float64, numpy=\n",
              "array([1.        , 1.41421356, 1.73205081, 2.        , 2.23606798,\n",
              "       2.44948974, 2.64575131, 2.82842712, 3.        ])>"
            ]
          },
          "metadata": {},
          "execution_count": 12
        }
      ]
    },
    {
      "cell_type": "code",
      "source": [
        "tf.math.log(tf.cast(tensor_1, dtype= tf.float32))   # not int data type"
      ],
      "metadata": {
        "colab": {
          "base_uri": "https://localhost:8080/"
        },
        "id": "F7e1gXmoprch",
        "outputId": "e2c3b951-16ad-4d0a-d0bb-eed32595416e"
      },
      "execution_count": null,
      "outputs": [
        {
          "output_type": "execute_result",
          "data": {
            "text/plain": [
              "<tf.Tensor: shape=(9,), dtype=float32, numpy=\n",
              "array([0.       , 0.6931472, 1.0986123, 1.3862944, 1.609438 , 1.7917595,\n",
              "       1.9459102, 2.0794415, 2.1972246], dtype=float32)>"
            ]
          },
          "metadata": {},
          "execution_count": 14
        }
      ]
    },
    {
      "cell_type": "markdown",
      "source": [
        "#### TensorFlow and NumPy"
      ],
      "metadata": {
        "id": "sGLdKhDTqTVh"
      }
    },
    {
      "cell_type": "code",
      "source": [
        "import numpy as np\n",
        "import tensorflow as tf"
      ],
      "metadata": {
        "id": "znBGoSCTr1nG"
      },
      "execution_count": null,
      "outputs": []
    },
    {
      "cell_type": "code",
      "source": [
        "tensor_1 = tf.constant(np.array([1, 2, 3, 4.]))\n",
        "tensor_1"
      ],
      "metadata": {
        "colab": {
          "base_uri": "https://localhost:8080/"
        },
        "id": "rRH_QFDlq4r8",
        "outputId": "b1782bc7-e08e-4d32-f341-5cea67741077"
      },
      "execution_count": null,
      "outputs": [
        {
          "output_type": "execute_result",
          "data": {
            "text/plain": [
              "<tf.Tensor: shape=(4,), dtype=float64, numpy=array([1., 2., 3., 4.])>"
            ]
          },
          "metadata": {},
          "execution_count": 17
        }
      ]
    },
    {
      "cell_type": "code",
      "source": [
        "type(tensor_1), tensor_1.dtype, tf.size(tensor_1), tensor_1.shape\n"
      ],
      "metadata": {
        "colab": {
          "base_uri": "https://localhost:8080/"
        },
        "id": "Ur8OEJF1slzL",
        "outputId": "629233ac-b822-4bec-aefa-5444bf34fe50"
      },
      "execution_count": null,
      "outputs": [
        {
          "output_type": "execute_result",
          "data": {
            "text/plain": [
              "(tensorflow.python.framework.ops.EagerTensor,\n",
              " tf.float64,\n",
              " <tf.Tensor: shape=(), dtype=int32, numpy=4>,\n",
              " TensorShape([4]))"
            ]
          },
          "metadata": {},
          "execution_count": 21
        }
      ]
    },
    {
      "cell_type": "code",
      "source": [
        "array_1 = np.array(tensor_1)\n",
        "array_1"
      ],
      "metadata": {
        "colab": {
          "base_uri": "https://localhost:8080/"
        },
        "id": "0JmCNmvLsF-w",
        "outputId": "ed013c9c-5c1d-4985-b6f6-4c14d7540882"
      },
      "execution_count": null,
      "outputs": [
        {
          "output_type": "execute_result",
          "data": {
            "text/plain": [
              "array([1., 2., 3., 4.])"
            ]
          },
          "metadata": {},
          "execution_count": 19
        }
      ]
    },
    {
      "cell_type": "code",
      "source": [
        "type(array_1), array_1.dtype, array_1.size, array_1.shape"
      ],
      "metadata": {
        "colab": {
          "base_uri": "https://localhost:8080/"
        },
        "id": "14MBP_zjsV2A",
        "outputId": "9c213270-6ea5-4e98-f273-9b1e934980f1"
      },
      "execution_count": null,
      "outputs": [
        {
          "output_type": "execute_result",
          "data": {
            "text/plain": [
              "(numpy.ndarray, dtype('float64'), 4, (4,))"
            ]
          },
          "metadata": {},
          "execution_count": 20
        }
      ]
    },
    {
      "cell_type": "code",
      "source": [
        "tensor_1.numpy(), type(tensor_1.numpy())"
      ],
      "metadata": {
        "colab": {
          "base_uri": "https://localhost:8080/"
        },
        "id": "YXijnz60siXD",
        "outputId": "9e504c73-5408-47a8-fa00-30e7430e4219"
      },
      "execution_count": null,
      "outputs": [
        {
          "output_type": "execute_result",
          "data": {
            "text/plain": [
              "(array([1., 2., 3., 4.]), numpy.ndarray)"
            ]
          },
          "metadata": {},
          "execution_count": 23
        }
      ]
    },
    {
      "cell_type": "code",
      "source": [
        "tensor_1.numpy()[0], tensor_1[0]"
      ],
      "metadata": {
        "colab": {
          "base_uri": "https://localhost:8080/"
        },
        "id": "EJcmUV3-tIKg",
        "outputId": "07ca0ce4-179f-4522-b814-77a8fe0a2e03"
      },
      "execution_count": null,
      "outputs": [
        {
          "output_type": "execute_result",
          "data": {
            "text/plain": [
              "(1.0, <tf.Tensor: shape=(), dtype=float64, numpy=1.0>)"
            ]
          },
          "metadata": {},
          "execution_count": 25
        }
      ]
    },
    {
      "cell_type": "markdown",
      "source": [
        "#### **Access to GPUs**"
      ],
      "metadata": {
        "id": "QHkH2_Z7tZgy"
      }
    },
    {
      "cell_type": "code",
      "source": [
        "tf.config.list_physical_devices()"
      ],
      "metadata": {
        "colab": {
          "base_uri": "https://localhost:8080/"
        },
        "id": "8X34admTzdqF",
        "outputId": "fa067706-f3a9-45bd-fa30-d9481ac5648e"
      },
      "execution_count": null,
      "outputs": [
        {
          "output_type": "execute_result",
          "data": {
            "text/plain": [
              "[PhysicalDevice(name='/physical_device:CPU:0', device_type='CPU')]"
            ]
          },
          "metadata": {},
          "execution_count": 2
        }
      ]
    },
    {
      "cell_type": "code",
      "source": [
        "!nvidia-smi"
      ],
      "metadata": {
        "colab": {
          "base_uri": "https://localhost:8080/"
        },
        "id": "iHADNLjozstt",
        "outputId": "7c620c39-6bbd-4f1e-9e56-2b07af78baa6"
      },
      "execution_count": null,
      "outputs": [
        {
          "output_type": "stream",
          "name": "stdout",
          "text": [
            "/bin/bash: line 1: nvidia-smi: command not found\n"
          ]
        }
      ]
    },
    {
      "cell_type": "code",
      "source": [],
      "metadata": {
        "id": "ewtQX7ij1d8o"
      },
      "execution_count": null,
      "outputs": []
    }
  ]
}